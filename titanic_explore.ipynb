print(This will be the file for the Kaggle titanic exercise)
print(second line)

